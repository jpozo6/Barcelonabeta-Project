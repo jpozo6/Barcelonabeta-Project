{
 "cells": [
  {
   "cell_type": "code",
   "execution_count": 62,
   "metadata": {},
   "outputs": [],
   "source": [
    "from nisnap import snap\n",
    "from nisnap.utils import aseg"
   ]
  },
  {
   "cell_type": "code",
   "execution_count": null,
   "metadata": {},
   "outputs": [],
   "source": [
    "x = pyxnat.Interface(config='/home/jpozoc/.xnat_bsc.cfg')"
   ]
  },
  {
   "cell_type": "markdown",
   "metadata": {},
   "source": [
    "## Cuerpo calloso"
   ]
  },
  {
   "cell_type": "markdown",
   "metadata": {},
   "source": [
    "Sujeto 10068"
   ]
  },
  {
   "cell_type": "code",
   "execution_count": 28,
   "metadata": {},
   "outputs": [
    {
     "name": "stderr",
     "output_type": "stream",
     "text": [
      "INFO:root:* Creating snapshots...\n",
      "  0%|          | 0/16 [00:00<?, ?it/s]WARNING:root:Using bounding box: ([87, 122], [80, 166]) (axis z)\n",
      "INFO:root:Saved in /media/hdd1/jpozoc/Barcelonabeta-Project/Notebooks/Nisnap/CC_FastSurfer.png\n"
     ]
    }
   ],
   "source": [
    "slices = {'x': list(range(87, 159, 5)),\n",
    "          'y': list(range(93, 117, 3)),\n",
    "          'z': list(range(123, 132, 2))}\n",
    "\n",
    "cc = [251,252,253,254,255]\n",
    "\n",
    "file = aseg.__swap_fs__('/media/hdd1/jpozoc/Barcelonabeta-Project/Freeview_Compare/10068_030410181116068_1401_BBRC_E00352/mri/aseg.mgz')\n",
    "bg = aseg.__swap_fs__('/media/hdd1/jpozoc/Barcelonabeta-Project/Freeview_Compare/10068_030410181116068_1401_BBRC_E00352/mri/rawavg.mgz')\n",
    "snap.plot_segment(filepaths=file,\n",
    "                  bg=bg,\n",
    "                  labels=cc,\n",
    "                  opacity=70,\n",
    "                  contours=False,\n",
    "                  axes='z',\n",
    "                  slices=range(120,135,2),\n",
    "                  figsize=(10,2),\n",
    "                  rowsize=4,\n",
    "                  samebox=True,\n",
    "                  savefig='/media/hdd1/jpozoc/Barcelonabeta-Project/Notebooks/Nisnap/CC_FastSurfer.png')"
   ]
  },
  {
   "cell_type": "code",
   "execution_count": 27,
   "metadata": {},
   "outputs": [
    {
     "name": "stderr",
     "output_type": "stream",
     "text": [
      "INFO:root:freesurfer_reg_to_native: False\n",
      "INFO:root:* Creating snapshots...\n",
      "  0%|          | 0/16 [00:00<?, ?it/s]WARNING:root:Using bounding box: ([107, 150], [98, 209]) (axis z)\n",
      "INFO:root:Saved in /media/hdd1/jpozoc/Barcelonabeta-Project/Notebooks/Nisnap/CC_FreeSurfer.png\n"
     ]
    }
   ],
   "source": [
    "import pyxnat\n",
    "from nisnap import xnat\n",
    "bg, filepaths = xnat.__download_freesurfer6__(x, \"BBRC_E00352\", '/tmp/', 'FREESURFER7', raw=True, cache=False)\n",
    "cc = [251,252,253,254,255]\n",
    "snap.plot_segment(filepaths, axes='z', bg=bg, opacity=70,\n",
    "                          animated=False, slices = range(151,167,2),\n",
    "                          figsize=(10,2), rowsize=4,\n",
    "    \n",
    "                          contours=False, samebox=True,\n",
    "                          labels=cc,savefig='/media/hdd1/jpozoc/Barcelonabeta-Project/Notebooks/Nisnap/CC_FreeSurfer.png')"
   ]
  },
  {
   "cell_type": "markdown",
   "metadata": {},
   "source": [
    "## Inf-Lat-Vent"
   ]
  },
  {
   "cell_type": "markdown",
   "metadata": {},
   "source": [
    "Sujeto 10081"
   ]
  },
  {
   "cell_type": "code",
   "execution_count": 37,
   "metadata": {},
   "outputs": [
    {
     "name": "stderr",
     "output_type": "stream",
     "text": [
      "  0%|          | 0/16 [00:00<?, ?it/s]WARNING:root:Using bounding box: ([109, 141], [90, 164]) (axis x)\n",
      "                                              \r"
     ]
    }
   ],
   "source": [
    "slices = {'x': list(range(96, 110, 3)),\n",
    "          'y': list(range(93, 117, 3)),\n",
    "          'z': list(range(96, 168, 3))}\n",
    "\n",
    "file = aseg.__swap_fs__('/media/hdd1/jpozoc/Barcelonabeta-Project/Freeview_Compare/10081_030410180518081_301_BBRC02_E02397/mri/aseg.mgz')\n",
    "bg = aseg.__swap_fs__('/media/hdd1/jpozoc/Barcelonabeta-Project/Freeview_Compare/10081_030410180518081_301_BBRC02_E02397/mri/rawavg.mgz')\n",
    "snap.plot_segment(filepaths=file,\n",
    "                  bg=bg,\n",
    "                  labels=[5,44],\n",
    "                  opacity=100,\n",
    "                  contours=False,\n",
    "                  axes='x',\n",
    "                  #slices=range(118,133,2),\n",
    "                  figsize=(8,2),\n",
    "                  rowsize=4,\n",
    "                  samebox=True,\n",
    "                  savefig='/media/hdd1/jpozoc/Barcelonabeta-Project/Notebooks/Nisnap/Inf-Lat-Vent_FastSurfer.png')"
   ]
  },
  {
   "cell_type": "code",
   "execution_count": 39,
   "metadata": {},
   "outputs": [
    {
     "name": "stderr",
     "output_type": "stream",
     "text": [
      "  0%|          | 0/16 [00:00<?, ?it/s]WARNING:root:Using bounding box: ([136, 173], [111, 207]) (axis x)\n",
      "                                              \r"
     ]
    }
   ],
   "source": [
    "import pyxnat\n",
    "from nisnap import xnat\n",
    "bg, filepaths = xnat.__download_freesurfer6__(x, \"BBRC02_E02397\", '/tmp/', 'FREESURFER7', raw=True, cache=False)\n",
    "snap.plot_segment(filepaths, axes='x', bg=bg, opacity=100,\n",
    "                          animated=False, slices = range(148,163,2),\n",
    "                          figsize=(8,2), rowsize=4,\n",
    "    \n",
    "                          contours=False, samebox=True,\n",
    "                          labels=[5,44], savefig='/media/hdd1/jpozoc/Barcelonabeta-Project/Notebooks/Nisnap/Inf-Lat-Vent_FreeSurfer.png')"
   ]
  },
  {
   "cell_type": "markdown",
   "metadata": {},
   "source": [
    "## Amígdala"
   ]
  },
  {
   "cell_type": "code",
   "execution_count": 47,
   "metadata": {},
   "outputs": [
    {
     "name": "stderr",
     "output_type": "stream",
     "text": [
      "  0%|          | 0/20 [00:00<?, ?it/s]WARNING:root:Using bounding box: ([124, 151], [90, 162]) (axis x)\n",
      "                                               \r"
     ]
    }
   ],
   "source": [
    "slices = {'x': list(range(96, 110, 3)),\n",
    "          'y': list(range(93, 117, 3)),\n",
    "          'z': list(range(96, 168, 3))}\n",
    "\n",
    "file = aseg.__swap_fs__('/media/hdd1/jpozoc/Barcelonabeta-Project/ALFAOPCIONAL_FS/10028_040110050716028_401_BBRC02_E02264/mri/aseg.mgz')\n",
    "bg = aseg.__swap_fs__('/media/hdd1/jpozoc/Barcelonabeta-Project/ALFAOPCIONAL_FS/10028_040110050716028_401_BBRC02_E02264/mri/rawavg.mgz')\n",
    "snap.plot_segment(filepaths=file,\n",
    "                  bg=bg,\n",
    "                  labels=[18,54],\n",
    "                  opacity=100,\n",
    "                  contours=False,\n",
    "                  axes='x',\n",
    "                  slices=range(120,145,2),\n",
    "                  figsize=(10,2),\n",
    "                  rowsize=5,\n",
    "                  samebox=True,\n",
    "                  savefig='/media/hdd1/jpozoc/Barcelonabeta-Project/Notebooks/Nisnap/Amigdala_FastSurfer.png')"
   ]
  },
  {
   "cell_type": "code",
   "execution_count": 48,
   "metadata": {},
   "outputs": [
    {
     "name": "stderr",
     "output_type": "stream",
     "text": [
      "  0%|          | 0/20 [00:00<?, ?it/s]WARNING:root:Using bounding box: ([156, 189], [110, 204]) (axis x)\n",
      "                                               \r"
     ]
    }
   ],
   "source": [
    "import pyxnat\n",
    "from nisnap import xnat\n",
    "bg, filepaths = xnat.__download_freesurfer6__(x, \"BBRC02_E02264\", '/tmp/', 'FREESURFER7', raw=True, cache=False)\n",
    "snap.plot_segment(filepaths, axes='x', bg=bg, opacity=100,\n",
    "                          animated=False, slices = range(156,175,2),\n",
    "                          figsize=(10,2), rowsize=5,\n",
    "    \n",
    "                          contours=False, samebox=True,\n",
    "                          labels=[18,54], savefig='/media/hdd1/jpozoc/Barcelonabeta-Project/Notebooks/Nisnap/Amigdala_FreeSurfer.png')"
   ]
  },
  {
   "cell_type": "markdown",
   "metadata": {},
   "source": [
    "## Cerebellum Cortex"
   ]
  },
  {
   "cell_type": "code",
   "execution_count": 70,
   "metadata": {},
   "outputs": [
    {
     "name": "stderr",
     "output_type": "stream",
     "text": [
      "  0%|          | 0/24 [00:00<?, ?it/s]WARNING:root:Using bounding box: ([138, 206], [71, 178]) (axis x)\n",
      "                                               \r"
     ]
    }
   ],
   "source": [
    "slices = {'x': list(range(96, 110, 3)),\n",
    "          'y': list(range(93, 117, 3)),\n",
    "          'z': list(range(96, 168, 3))}\n",
    "\n",
    "file = aseg.__swap_fs__('/media/hdd1/jpozoc/Barcelonabeta-Project/ALFAOPCIONAL_FS/10042_030410200916042_401_BBRC_E00274/mri/aseg.mgz')\n",
    "bg = aseg.__swap_fs__('/media/hdd1/jpozoc/Barcelonabeta-Project/ALFAOPCIONAL_FS/10042_030410200916042_401_BBRC_E00274/mri/rawavg.mgz')\n",
    "snap.plot_segment(filepaths=file,\n",
    "                  bg=bg,\n",
    "                  labels=[8,47],\n",
    "                  opacity=100,\n",
    "                  contours=False,\n",
    "                  axes='x',\n",
    "                  slices=range(78,126,4),\n",
    "                  figsize=(8,3),\n",
    "                  rowsize=4,\n",
    "                  samebox=True,\n",
    "                  savefig='/media/hdd1/jpozoc/Barcelonabeta-Project/Notebooks/Nisnap/CerebellumCortex_FastSurfer.png')"
   ]
  },
  {
   "cell_type": "code",
   "execution_count": 75,
   "metadata": {},
   "outputs": [
    {
     "name": "stderr",
     "output_type": "stream",
     "text": [
      "  0%|          | 0/24 [00:00<?, ?it/s]WARNING:root:Using bounding box: ([176, 264], [85, 226]) (axis x)\n",
      "                                               \r"
     ]
    }
   ],
   "source": [
    "import pyxnat\n",
    "\n",
    "from nisnap import xnat\n",
    "bg, filepaths = xnat.__download_freesurfer6__(x, \"BBRC_E00274\", '/tmp/', 'FREESURFER7', raw=True, cache=False)\n",
    "snap.plot_segment(filepaths, axes='x', bg=bg, opacity=100,\n",
    "                          animated=False, slices = range(93,153,5),\n",
    "                          figsize=(8,3), \n",
    "                          rowsize=4,\n",
    "    \n",
    "                          contours=False, samebox=True,\n",
    "                          labels=[8,47], savefig='/media/hdd1/jpozoc/Barcelonabeta-Project/Notebooks/Nisnap/CerebellumCortex_FreeSurfer.png')"
   ]
  },
  {
   "cell_type": "markdown",
   "metadata": {},
   "source": [
    "## Cerebellum-White-Matter"
   ]
  },
  {
   "cell_type": "code",
   "execution_count": 79,
   "metadata": {},
   "outputs": [
    {
     "name": "stderr",
     "output_type": "stream",
     "text": [
      "  0%|          | 0/18 [00:00<?, ?it/s]WARNING:root:Using bounding box: ([136, 194], [80, 168]) (axis x)\n",
      "                                               \r"
     ]
    }
   ],
   "source": [
    "slices = {'x': list(range(96, 110, 3)),\n",
    "          'y': list(range(93, 117, 3)),\n",
    "          'z': list(range(96, 168, 3))}\n",
    "\n",
    "file = aseg.__swap_fs__('/media/hdd1/jpozoc/Barcelonabeta-Project/ALFAOPCIONAL_FS/10042_030410200916042_401_BBRC_E00274/mri/aseg.mgz')\n",
    "bg = aseg.__swap_fs__('/media/hdd1/jpozoc/Barcelonabeta-Project/ALFAOPCIONAL_FS/10042_030410200916042_401_BBRC_E00274/mri/rawavg.mgz')\n",
    "snap.plot_segment(filepaths=file,\n",
    "                  bg=bg,\n",
    "                  labels=[7,46],\n",
    "                  opacity=100,\n",
    "                  contours=False,\n",
    "                  axes='x',\n",
    "                  slices=range(90,117,3),\n",
    "                  figsize=(6,3),\n",
    "                  rowsize=3,\n",
    "                  samebox=True,\n",
    "                  savefig='/media/hdd1/jpozoc/Barcelonabeta-Project/Notebooks/Nisnap/CerebellumWhiteMatter_FastSurfer.png')"
   ]
  },
  {
   "cell_type": "code",
   "execution_count": 87,
   "metadata": {},
   "outputs": [
    {
     "name": "stderr",
     "output_type": "stream",
     "text": [
      "  0%|          | 0/18 [00:00<?, ?it/s]WARNING:root:Using bounding box: ([172, 252], [98, 216]) (axis x)\n",
      "                                               \r"
     ]
    }
   ],
   "source": [
    "import pyxnat\n",
    "\n",
    "from nisnap import xnat\n",
    "bg, filepaths = xnat.__download_freesurfer6__(x, \"BBRC_E00274\", '/tmp/', 'FREESURFER7', raw=True, cache=False)\n",
    "snap.plot_segment(filepaths, axes='x', bg=bg, opacity=100,\n",
    "                          animated=False, slices = range(111,146,4),\n",
    "                          figsize=(6,3), \n",
    "                  rowsize=3,\n",
    "    \n",
    "                          contours=False, samebox=True,\n",
    "                          labels=[7,46],savefig='/media/hdd1/jpozoc/Barcelonabeta-Project/Notebooks/Nisnap/CerebellumWhiteMatter_FreeSurfer.png')"
   ]
  },
  {
   "cell_type": "markdown",
   "metadata": {},
   "source": [
    "## Accumbens-Area"
   ]
  },
  {
   "cell_type": "code",
   "execution_count": 90,
   "metadata": {},
   "outputs": [
    {
     "name": "stderr",
     "output_type": "stream",
     "text": [
      "  0%|          | 0/12 [00:00<?, ?it/s]WARNING:root:Using bounding box: ([103, 126], [109, 146]) (axis x)\n",
      "                                              \r"
     ]
    }
   ],
   "source": [
    "slices = {'x': list(range(96, 110, 3)),\n",
    "          'y': list(range(93, 117, 3)),\n",
    "          'z': list(range(96, 168, 3))}\n",
    "\n",
    "file = aseg.__swap_fs__('/media/hdd1/jpozoc/Barcelonabeta-Project/ALFAOPCIONAL_FS/10016_030410011216016_401_BBRC_E00380/mri/aseg.mgz')\n",
    "bg = aseg.__swap_fs__('/media/hdd1/jpozoc/Barcelonabeta-Project/ALFAOPCIONAL_FS/10016_030410011216016_401_BBRC_E00380/mri/rawavg.mgz')\n",
    "snap.plot_segment(filepaths=file,\n",
    "                  bg=bg,\n",
    "                  labels=[26,58],\n",
    "                  opacity=100,\n",
    "                  contours=False,\n",
    "                  axes='x',\n",
    "                  slices=range(132,143,2),\n",
    "                  figsize=(6,3),\n",
    "                  rowsize=3,\n",
    "                  samebox=True,\n",
    "                 savefig='/media/hdd1/jpozoc/Barcelonabeta-Project/Notebooks/Nisnap/Accumbens_FastSurfer.png')"
   ]
  },
  {
   "cell_type": "code",
   "execution_count": 93,
   "metadata": {},
   "outputs": [
    {
     "name": "stderr",
     "output_type": "stream",
     "text": [
      "  0%|          | 0/12 [00:00<?, ?it/s]WARNING:root:Using bounding box: ([129, 156], [136, 183]) (axis x)\n",
      "                                              \r"
     ]
    }
   ],
   "source": [
    "import pyxnat\n",
    "\n",
    "from nisnap import xnat\n",
    "bg, filepaths = xnat.__download_freesurfer6__(x, \"BBRC_E00380\", '/tmp/', 'FREESURFER7', raw=True, cache=False)\n",
    "snap.plot_segment(filepaths, axes='x', bg=bg, opacity=100,\n",
    "                          animated=False, slices = range(165,177,2),\n",
    "                          figsize=(6,3), \n",
    "                  rowsize=3,\n",
    "    \n",
    "                          contours=False, samebox=True,\n",
    "                          labels=[26,58], savefig='/media/hdd1/jpozoc/Barcelonabeta-Project/Notebooks/Nisnap/Accumbens_FreeSurfer.png')"
   ]
  },
  {
   "cell_type": "markdown",
   "metadata": {},
   "source": [
    "## Hipocampo"
   ]
  },
  {
   "cell_type": "code",
   "execution_count": 99,
   "metadata": {},
   "outputs": [
    {
     "name": "stderr",
     "output_type": "stream",
     "text": [
      "  0%|          | 0/20 [00:00<?, ?it/s]WARNING:root:Using bounding box: ([118, 171], [87, 167]) (axis x)\n",
      "                                               \r"
     ]
    }
   ],
   "source": [
    "\n",
    "file = aseg.__swap_fs__('/media/hdd1/jpozoc/Barcelonabeta-Project/ALFAOPCIONAL_FS/10042_030410200916042_401_BBRC_E00274/mri/aseg.mgz')\n",
    "bg = aseg.__swap_fs__('/media/hdd1/jpozoc/Barcelonabeta-Project/ALFAOPCIONAL_FS/10042_030410200916042_401_BBRC_E00274/mri/rawavg.mgz')\n",
    "snap.plot_segment(filepaths=file,\n",
    "                  bg=bg,\n",
    "                  labels=[17,53],\n",
    "                  opacity=100,\n",
    "                  contours=False,\n",
    "                  axes='x',\n",
    "                  slices=range(115,134,2),\n",
    "                  figsize=(6,2),\n",
    "                  rowsize=5,\n",
    "                  samebox=True,\n",
    "                 savefig='/media/hdd1/jpozoc/Barcelonabeta-Project/Notebooks/Nisnap/Hipocampo_FastSurfer.png')"
   ]
  },
  {
   "cell_type": "code",
   "execution_count": 103,
   "metadata": {},
   "outputs": [
    {
     "name": "stderr",
     "output_type": "stream",
     "text": [
      "  0%|          | 0/20 [00:00<?, ?it/s]WARNING:root:Using bounding box: ([149, 218], [107, 212]) (axis x)\n",
      "                                               \r"
     ]
    }
   ],
   "source": [
    "import pyxnat\n",
    "\n",
    "from nisnap import xnat\n",
    "bg, filepaths = xnat.__download_freesurfer6__(x, \"BBRC_E00274\", '/tmp/', 'FREESURFER7', raw=True, cache=False)\n",
    "snap.plot_segment(filepaths, axes='x', bg=bg, opacity=100,\n",
    "                          animated=False, slices = range(144,173,3),\n",
    "                          figsize=(6,2), \n",
    "                          rowsize=5,\n",
    "    \n",
    "                          contours=False, samebox=True,\n",
    "                          labels=[17,53],savefig='/media/hdd1/jpozoc/Barcelonabeta-Project/Notebooks/Nisnap/Hipocampo_FreeSurfer.png')"
   ]
  },
  {
   "cell_type": "markdown",
   "metadata": {},
   "source": [
    "## VentralDC"
   ]
  },
  {
   "cell_type": "code",
   "execution_count": 111,
   "metadata": {},
   "outputs": [
    {
     "name": "stderr",
     "output_type": "stream",
     "text": [
      "  0%|          | 0/16 [00:00<?, ?it/s]WARNING:root:Using bounding box: ([115, 159], [95, 159]) (axis x)\n",
      "                                              \r"
     ]
    }
   ],
   "source": [
    "file = aseg.__swap_fs__('/media/hdd1/jpozoc/Barcelonabeta-Project/ALFAOPCIONAL_FS/10012_030410221018012_201_BBRC02_E04933/mri/aseg.mgz')\n",
    "bg = aseg.__swap_fs__('/media/hdd1/jpozoc/Barcelonabeta-Project/ALFAOPCIONAL_FS/10012_030410221018012_201_BBRC02_E04933/mri/rawavg.mgz')\n",
    "snap.plot_segment(filepaths=file,\n",
    "                  bg=bg,\n",
    "                  labels=[28,60],\n",
    "                  opacity=100,\n",
    "                  contours=False,\n",
    "                  axes='x',\n",
    "                  slices=range(119,136,2),\n",
    "                  figsize=(8,2),\n",
    "                  rowsize=4,\n",
    "                  samebox=True,\n",
    "                  savefig='/media/hdd1/jpozoc/Barcelonabeta-Project/Notebooks/Nisnap/VentralDC_FastSurfer.png')"
   ]
  },
  {
   "cell_type": "code",
   "execution_count": 113,
   "metadata": {},
   "outputs": [
    {
     "name": "stderr",
     "output_type": "stream",
     "text": [
      "  0%|          | 0/16 [00:00<?, ?it/s]WARNING:root:Using bounding box: ([144, 200], [115, 201]) (axis x)\n",
      "                                              \r"
     ]
    }
   ],
   "source": [
    "import pyxnat\n",
    "\n",
    "from nisnap import xnat\n",
    "bg, filepaths = xnat.__download_freesurfer6__(x, \"BBRC02_E04933\", '/tmp/', 'FREESURFER7', raw=True, cache=False)\n",
    "snap.plot_segment(filepaths, axes='x', bg=bg, opacity=100,\n",
    "                          animated=False, slices = range(155,170,2),\n",
    "                          figsize=(8,2), \n",
    "                          rowsize=4,\n",
    "    \n",
    "                          contours=False, samebox=True,\n",
    "                          labels=[28,60],savefig='/media/hdd1/jpozoc/Barcelonabeta-Project/Notebooks/Nisnap/VentralDC_FreeSurfer.png')"
   ]
  },
  {
   "cell_type": "markdown",
   "metadata": {},
   "source": [
    "# OUTLIERS"
   ]
  },
  {
   "cell_type": "markdown",
   "metadata": {},
   "source": [
    "## 3rd-Ventricle"
   ]
  },
  {
   "cell_type": "code",
   "execution_count": 149,
   "metadata": {},
   "outputs": [
    {
     "name": "stderr",
     "output_type": "stream",
     "text": [
      "  0%|          | 0/16 [00:00<?, ?it/s]WARNING:root:Using bounding box: ([106, 143], [115, 141]) (axis x)\n",
      "                                              \r"
     ]
    }
   ],
   "source": [
    "file = aseg.__swap_fs__('/media/hdd1/jpozoc/Barcelonabeta-Project/ALFAOPCIONAL_FS/11594_030411120917594_401_BBRC_E02577/mri/aseg.mgz')\n",
    "bg = aseg.__swap_fs__('/media/hdd1/jpozoc/Barcelonabeta-Project/ALFAOPCIONAL_FS/11594_030411120917594_401_BBRC_E02577/mri/rawavg.mgz')\n",
    "snap.plot_segment(filepaths=file,\n",
    "                  bg=bg,\n",
    "                  labels=[14],\n",
    "                  opacity=70,\n",
    "                  contours=True,\n",
    "                  axes='x',\n",
    "                  slices=range(119,136,2),\n",
    "                  figsize=(5,2),\n",
    "                  rowsize=4,\n",
    "                  samebox=True,\n",
    "                  savefig='/media/hdd1/jpozoc/Barcelonabeta-Project/Notebooks/Nisnap/3rd-Ventricle_FastSurfer.png')"
   ]
  },
  {
   "cell_type": "code",
   "execution_count": 150,
   "metadata": {},
   "outputs": [
    {
     "name": "stderr",
     "output_type": "stream",
     "text": [
      "  0%|          | 0/16 [00:00<?, ?it/s]WARNING:root:Using bounding box: ([125, 187], [146, 176]) (axis x)\n",
      "                                              \r"
     ]
    }
   ],
   "source": [
    "import pyxnat\n",
    "\n",
    "from nisnap import xnat\n",
    "bg, filepaths = xnat.__download_freesurfer6__(x, \"BBRC_E02577\", '/tmp/', 'FREESURFER7', raw=True, cache=False)\n",
    "snap.plot_segment(filepaths, axes='x', bg=bg, opacity=70,\n",
    "                          animated=False, slices = range(148,172,3),\n",
    "                          figsize=(5,2), \n",
    "                          rowsize=4,\n",
    "    \n",
    "                          contours=True, samebox=True,\n",
    "                          labels=[14], savefig='/media/hdd1/jpozoc/Barcelonabeta-Project/Notebooks/Nisnap/3rd-Ventricle_FreeSurfer.png')"
   ]
  },
  {
   "cell_type": "code",
   "execution_count": 151,
   "metadata": {},
   "outputs": [
    {
     "name": "stderr",
     "output_type": "stream",
     "text": [
      "  0%|          | 0/16 [00:00<?, ?it/s]WARNING:root:Using bounding box: ([112, 154], [117, 143]) (axis x)\n",
      "                                              \r"
     ]
    }
   ],
   "source": [
    "file = aseg.__swap_fs__('/media/hdd1/jpozoc/Barcelonabeta-Project/ALFAOPCIONAL_FS/77263_030477190618263_401_BBRC02_E03380/mri/aseg.mgz')\n",
    "bg = aseg.__swap_fs__('/media/hdd1/jpozoc/Barcelonabeta-Project/ALFAOPCIONAL_FS/77263_030477190618263_401_BBRC02_E03380/mri/rawavg.mgz')\n",
    "snap.plot_segment(filepaths=file,\n",
    "                  bg=bg,\n",
    "                  labels=[14],\n",
    "                  opacity=70,\n",
    "                  contours=True,\n",
    "                  axes='x',\n",
    "                  slices=range(118,133,2),\n",
    "                  figsize=(5,2),\n",
    "                  rowsize=4,\n",
    "                  samebox=True,\n",
    "                  savefig='/media/hdd1/jpozoc/Barcelonabeta-Project/Notebooks/Nisnap/3rd-Ventricle2_FastSurfer.png')"
   ]
  },
  {
   "cell_type": "code",
   "execution_count": 152,
   "metadata": {},
   "outputs": [
    {
     "name": "stderr",
     "output_type": "stream",
     "text": [
      "  0%|          | 0/16 [00:00<?, ?it/s]WARNING:root:Using bounding box: ([139, 195], [148, 179]) (axis x)\n",
      "                                              \r"
     ]
    }
   ],
   "source": [
    "import pyxnat\n",
    "\n",
    "from nisnap import xnat\n",
    "bg, filepaths = xnat.__download_freesurfer6__(x, \"BBRC02_E03380\", '/tmp/', 'FREESURFER7', raw=True, cache=False)\n",
    "snap.plot_segment(filepaths, axes='x', bg=bg, opacity=70,\n",
    "                          animated=False, slices = range(142,169,3),\n",
    "                          figsize=(5,2), \n",
    "                          rowsize=4,\n",
    "    \n",
    "                          contours=True, samebox=True,\n",
    "                          labels=[14], savefig='/media/hdd1/jpozoc/Barcelonabeta-Project/Notebooks/Nisnap/3rd-Ventricle2_FreeSurfer.png')"
   ]
  },
  {
   "cell_type": "markdown",
   "metadata": {},
   "source": [
    "## CSF"
   ]
  },
  {
   "cell_type": "code",
   "execution_count": 153,
   "metadata": {},
   "outputs": [
    {
     "name": "stderr",
     "output_type": "stream",
     "text": [
      "  0%|          | 0/14 [00:00<?, ?it/s]WARNING:root:Using bounding box: ([114, 147], [111, 145]) (axis x)\n",
      "                                              \r"
     ]
    }
   ],
   "source": [
    "file = aseg.__swap_fs__('/media/hdd1/jpozoc/Barcelonabeta-Project/ALFAOPCIONAL_FS/11594_030411120917594_401_BBRC_E02577/mri/aseg.mgz')\n",
    "bg = aseg.__swap_fs__('/media/hdd1/jpozoc/Barcelonabeta-Project/ALFAOPCIONAL_FS/11594_030411120917594_401_BBRC_E02577/mri/rawavg.mgz')\n",
    "snap.plot_segment(filepaths=file,\n",
    "                  bg=bg,\n",
    "                  labels=[24],\n",
    "                  opacity=100,\n",
    "                  contours=True,\n",
    "                  axes='x',\n",
    "                  slices=range(126,141,2),\n",
    "                  figsize=(6,2),\n",
    "                  rowsize=4,\n",
    "                  samebox=True,\n",
    "                  savefig='/media/hdd1/jpozoc/Barcelonabeta-Project/Notebooks/Nisnap/CSF_FastSurfer.png')"
   ]
  },
  {
   "cell_type": "code",
   "execution_count": 158,
   "metadata": {},
   "outputs": [
    {
     "name": "stderr",
     "output_type": "stream",
     "text": [
      "  0%|          | 0/16 [00:00<?, ?it/s]WARNING:root:Using bounding box: ([143, 188], [136, 178]) (axis x)\n",
      "                                              \r"
     ]
    }
   ],
   "source": [
    "import pyxnat\n",
    "\n",
    "from nisnap import xnat\n",
    "bg, filepaths = xnat.__download_freesurfer6__(x, \"BBRC_E02577\", '/tmp/', 'FREESURFER7', raw=True, cache=False)\n",
    "snap.plot_segment(filepaths, axes='x', bg=bg, opacity=70,\n",
    "                          animated=False, slices = range(153,184,4),\n",
    "                          figsize=(5,2), \n",
    "                          rowsize=4,\n",
    "    \n",
    "                          contours=True, samebox=True,\n",
    "                          labels=[24], savefig='/media/hdd1/jpozoc/Barcelonabeta-Project/Notebooks/Nisnap/CSF_FreeSurfer.png')"
   ]
  },
  {
   "cell_type": "markdown",
   "metadata": {},
   "source": [
    "## 4th-Ventricle"
   ]
  },
  {
   "cell_type": "code",
   "execution_count": 164,
   "metadata": {},
   "outputs": [
    {
     "name": "stderr",
     "output_type": "stream",
     "text": [
      "  0%|          | 0/16 [00:00<?, ?it/s]WARNING:root:Using bounding box: ([145, 178], [117, 149]) (axis x)\n",
      "                                              \r"
     ]
    }
   ],
   "source": [
    "file = aseg.__swap_fs__('/media/hdd1/jpozoc/Barcelonabeta-Project/ALFAOPCIONAL_FS/10969_030410250217969_301_BBRC02_E00714/mri/aseg.mgz')\n",
    "bg = aseg.__swap_fs__('/media/hdd1/jpozoc/Barcelonabeta-Project/ALFAOPCIONAL_FS/10969_030410250217969_301_BBRC02_E00714/mri/rawavg.mgz')\n",
    "snap.plot_segment(filepaths=file,\n",
    "                  bg=bg,\n",
    "                  labels=[15],\n",
    "                  opacity=100,\n",
    "                  contours=True,\n",
    "                  axes='x',\n",
    "                  slices=range(90,114,3),\n",
    "                  figsize=(5,2),\n",
    "                  rowsize=4,\n",
    "                  samebox=True,\n",
    "                  savefig='/media/hdd1/jpozoc/Barcelonabeta-Project/Notebooks/Nisnap/4th-Ventricle_FastSurfer.png')"
   ]
  },
  {
   "cell_type": "code",
   "execution_count": 168,
   "metadata": {},
   "outputs": [
    {
     "name": "stderr",
     "output_type": "stream",
     "text": [
      "  0%|          | 0/16 [00:00<?, ?it/s]WARNING:root:Using bounding box: ([184, 225], [143, 190]) (axis x)\n",
      "                                              \r"
     ]
    }
   ],
   "source": [
    "import pyxnat\n",
    "\n",
    "from nisnap import xnat\n",
    "bg, filepaths = xnat.__download_freesurfer6__(x, \"BBRC02_E00714\", '/tmp/', 'FREESURFER7', raw=True, cache=False)\n",
    "snap.plot_segment(filepaths, axes='x', bg=bg, opacity=70,\n",
    "                          animated=False, slices = range(104,144,5),\n",
    "                          figsize=(5,2), \n",
    "                          rowsize=4,\n",
    "    \n",
    "                          contours=True, samebox=True,\n",
    "                          labels=[15], savefig='/media/hdd1/jpozoc/Barcelonabeta-Project/Notebooks/Nisnap/4th-Ventricle_FreeSurfer.png')"
   ]
  },
  {
   "cell_type": "markdown",
   "metadata": {},
   "source": [
    "## Lateral-Ventricle"
   ]
  },
  {
   "cell_type": "code",
   "execution_count": 182,
   "metadata": {},
   "outputs": [
    {
     "name": "stderr",
     "output_type": "stream",
     "text": [
      "\n",
      "  0%|          | 0/24 [00:00<?, ?it/s]\u001b[AWARNING:root:Using bounding box: ([77, 224], [86, 174]) (axis x)\n",
      "\n",
      "  4%|▍         | 1/24 [00:01<00:44,  1.95s/it]\u001b[A\n",
      " 33%|███▎      | 8/24 [00:02<00:03,  5.24it/s]\u001b[A\n",
      " 54%|█████▍    | 13/24 [00:04<00:03,  3.37it/s]\u001b[A\n",
      "48it [00:04, 17.88it/s]                        \u001b[A\n",
      "                       \u001b[A"
     ]
    }
   ],
   "source": [
    "file = aseg.__swap_fs__('/media/hdd1/jpozoc/Barcelonabeta-Project/ALFAOPCIONAL_FS/11594_030411120917594_401_BBRC_E02577/mri/aseg.mgz')\n",
    "bg = aseg.__swap_fs__('/media/hdd1/jpozoc/Barcelonabeta-Project/ALFAOPCIONAL_FS/11594_030411120917594_401_BBRC_E02577/mri/rawavg.mgz')\n",
    "snap.plot_segment(filepaths=file,\n",
    "                  bg=bg,\n",
    "                  labels=[4,43],\n",
    "                  opacity=70,\n",
    "                  contours=True,\n",
    "                  axes='x',\n",
    "                  slices=range(114,174,5),\n",
    "                  figsize=(4,3),\n",
    "                  rowsize=4,\n",
    "                  samebox=True,\n",
    "                  savefig='/media/hdd1/jpozoc/Barcelonabeta-Project/Notebooks/Nisnap/Lat-Vent_FastSurfer.png')"
   ]
  },
  {
   "cell_type": "code",
   "execution_count": 180,
   "metadata": {},
   "outputs": [
    {
     "name": "stderr",
     "output_type": "stream",
     "text": [
      "\n",
      "  0%|          | 0/24 [00:00<?, ?it/s]\u001b[AWARNING:root:Using bounding box: ([95, 252], [108, 221]) (axis x)\n",
      "\n",
      "  4%|▍         | 1/24 [00:01<00:43,  1.89s/it]\u001b[A\n",
      " 38%|███▊      | 9/24 [00:01<00:02,  6.08it/s]\u001b[A\n",
      " 58%|█████▊    | 14/24 [00:02<00:01,  5.92it/s]\u001b[A\n",
      "48it [00:03, 27.32it/s]                        \u001b[A\n",
      "                       \u001b[A"
     ]
    }
   ],
   "source": [
    "import pyxnat\n",
    "\n",
    "from nisnap import xnat\n",
    "bg, filepaths = xnat.__download_freesurfer6__(x, \"BBRC_E02577\", '/tmp/', 'FREESURFER7', raw=True, cache=False)\n",
    "snap.plot_segment(filepaths, axes='x', bg=bg, opacity=70,\n",
    "                          animated=False, slices = range(150,219,6),\n",
    "                          figsize=(4,3), \n",
    "                          rowsize=4,\n",
    "    \n",
    "                          contours=True, samebox=True,\n",
    "                          labels=[4,43], savefig='/media/hdd1/jpozoc/Barcelonabeta-Project/Notebooks/Nisnap/Lat-Vent_FreeSurfer.png')"
   ]
  },
  {
   "cell_type": "markdown",
   "metadata": {},
   "source": [
    "## WM-hypointensities"
   ]
  },
  {
   "cell_type": "code",
   "execution_count": 189,
   "metadata": {},
   "outputs": [
    {
     "name": "stderr",
     "output_type": "stream",
     "text": [
      "\n",
      "  0%|          | 0/24 [00:00<?, ?it/s]\u001b[AWARNING:root:Using bounding box: ([73, 225], [74, 184]) (axis x)\n",
      "\n",
      "  4%|▍         | 1/24 [00:02<00:50,  2.18s/it]\u001b[A\n",
      " 54%|█████▍    | 13/24 [00:04<00:02,  3.72it/s]\u001b[A\n",
      "48it [00:04, 16.78it/s]                        \u001b[A\n",
      "                       \u001b[A"
     ]
    }
   ],
   "source": [
    "file = aseg.__swap_fs__('/media/hdd1/jpozoc/Barcelonabeta-Project/ALFAOPCIONAL_FS/11594_030411120917594_401_BBRC_E02577/mri/aseg.mgz')\n",
    "bg = aseg.__swap_fs__('/media/hdd1/jpozoc/Barcelonabeta-Project/ALFAOPCIONAL_FS/11594_030411120917594_401_BBRC_E02577/mri/rawavg.mgz')\n",
    "snap.plot_segment(filepaths=file,\n",
    "                  bg=bg,\n",
    "                  labels=[77],\n",
    "                  opacity=100,\n",
    "                  contours=False,\n",
    "                  axes='x',\n",
    "                  slices=range(117,184,6),\n",
    "                  figsize=(4,3),\n",
    "                  rowsize=4,\n",
    "                  samebox=True,\n",
    "                  savefig='/media/hdd1/jpozoc/Barcelonabeta-Project/Notebooks/Nisnap/WM-hypointensities_FastSurfer.png')"
   ]
  },
  {
   "cell_type": "code",
   "execution_count": 191,
   "metadata": {},
   "outputs": [
    {
     "name": "stderr",
     "output_type": "stream",
     "text": [
      "\n",
      "  0%|          | 0/24 [00:00<?, ?it/s]\u001b[AWARNING:root:Using bounding box: ([87, 288], [92, 224]) (axis x)\n",
      "\n",
      "  4%|▍         | 1/24 [00:01<00:44,  1.91s/it]\u001b[A\n",
      " 54%|█████▍    | 13/24 [00:02<00:01,  5.77it/s]\u001b[A\n",
      "48it [00:03, 24.59it/s]                        \u001b[A\n",
      "                       \u001b[A"
     ]
    }
   ],
   "source": [
    "import pyxnat\n",
    "\n",
    "from nisnap import xnat\n",
    "bg, filepaths = xnat.__download_freesurfer6__(x, \"BBRC_E02577\", '/tmp/', 'FREESURFER7', raw=True, cache=False)\n",
    "snap.plot_segment(filepaths, axes='x', bg=bg, opacity=70,\n",
    "                          animated=False, slices = range(147,219,6),\n",
    "                          figsize=(4,3), \n",
    "                          rowsize=4,\n",
    "    \n",
    "                          contours=False, samebox=True,\n",
    "                          labels=[77], savefig='/media/hdd1/jpozoc/Barcelonabeta-Project/Notebooks/Nisnap/WM-hypointensities_FreeSurfer.png')"
   ]
  },
  {
   "cell_type": "code",
   "execution_count": null,
   "metadata": {},
   "outputs": [],
   "source": []
  }
 ],
 "metadata": {
  "kernelspec": {
   "display_name": "Python 3",
   "language": "python",
   "name": "python3"
  },
  "language_info": {
   "codemirror_mode": {
    "name": "ipython",
    "version": 3
   },
   "file_extension": ".py",
   "mimetype": "text/x-python",
   "name": "python",
   "nbconvert_exporter": "python",
   "pygments_lexer": "ipython3",
   "version": "3.9.2"
  }
 },
 "nbformat": 4,
 "nbformat_minor": 2
}
